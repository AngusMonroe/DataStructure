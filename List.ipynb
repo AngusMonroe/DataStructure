{
 "cells": [
  {
   "cell_type": "markdown",
   "metadata": {},
   "source": [
    "## What are Linear Structures?\n",
    "\n",
    "- Stacks\n",
    "- Queues\n",
    "- Deques\n",
    "- Lists\n",
    "\n",
    "Once an item added, it stays in that position relative to the other elements that came before  and came after it. What distinguishes on linear structure from another is the way in which items are added and moved, in paeticular the location where these additions and removals occur.\n",
    "\n",
    "## What is List?\n",
    "\n",
    "A list is a collection of items where each item holds a relative position with respect to the others. Each element in the sequence is assigned a number to indicate its position, or index, with the first index being 0, the second index being 1, and so on.\n",
    "\n",
    "## Usage of List\n",
    "\n",
    "- `list = []` Define a empty list named `list`.\n",
    "- `len(list)` Get the length of the list.\n",
    "- Access value in list. The index must minimize than the length of the list.\n",
    "    - Use a subscript index to access the values in the list, such as `list[0]`.\n",
    "    - You can also use square brackets to intercept characters, such as `list[1:3]`.\n",
    "- `list[i] = a` Update the value of position `i` of the list to `a`. `i` must minimize than the length of the list.\n",
    "- `list.append(x)` Add an item to the end of the list. Equivalent to `list[len(list):] = [x]`.\n",
    "- `list.extend(iterable)` Extend the list by appending all the items from the iterable. Equivalent to `list[len(list):] = iterable`. *If you want to conbine two lists, you should use `list1.extend(list2)` or just `list1 = list1 + list2` instead of `append`.*\n",
    "- `list.insert(i, x)` Insert an item at a given position. The first argument is the index of the element before which to insert, so `list.insert(0, x)` inserts at the front of the list, and `list.insert(len(a), x)` is equivalent to `list.append(x)`.\n",
    "- `list.remove(x)` Remove the first item from the list whose value is equal to `x`. It raises a `ValueError` if there is no such item.\n",
    "- `list.pop([i])` Remove the item at the given position in the list, and return it. If no index is specified, `list.pop()` removes and returns the last item in the list. \n",
    "- `list.clear()` Remove all items from the list. Equivalent to `del a[:]`.\n",
    "- `list.index(x[, start[, end]])` Return zero-based index in the list of the first item whose value is equal to `x`. Raises a `ValueError` if there is no such item.\n",
    "    The optional arguments `start` and `end` are interpreted as in the slice notation and are used to limit the search to a particular subsequence of the list. The returned index is computed relative to the beginning of the full sequence rather than the start argument.\n",
    "- `list.count(x)` Return the number of times `x` appears in the list.\n",
    "- `list.sort(key=None, reverse=False)` Sort the items of the list in place (the arguments can be used for sort customization, see `sorted()` for their explanation).\n",
    "- `list.reverse()` Reverse the elements of the list in place.\n",
    "- `list.copy()` Return a *shallow copy* of the list. Equivalent to `a[:]`.\n",
    "- `list = [x] * n` Initialize list with repeat `x` for `n` times.\n",
    "- `x in list` Judge whether `x` is in `list`.\n",
    "- `max(list)` Return the maximam item of `list`.\n",
    "- `min(list)` Return the minimum item of `list`.\n",
    "\n",
    "## Example"
   ]
  },
  {
   "cell_type": "code",
   "execution_count": 1,
   "metadata": {
    "collapsed": true
   },
   "outputs": [],
   "source": [
    "fruits = ['orange', 'apple', 'pear', 'banana', 'kiwi', 'apple', 'banana']"
   ]
  },
  {
   "cell_type": "code",
   "execution_count": 2,
   "metadata": {},
   "outputs": [
    {
     "data": {
      "text/plain": [
       "2"
      ]
     },
     "execution_count": 2,
     "metadata": {},
     "output_type": "execute_result"
    }
   ],
   "source": [
    "fruits.count('apple')"
   ]
  },
  {
   "cell_type": "code",
   "execution_count": 3,
   "metadata": {},
   "outputs": [
    {
     "data": {
      "text/plain": [
       "0"
      ]
     },
     "execution_count": 3,
     "metadata": {},
     "output_type": "execute_result"
    }
   ],
   "source": [
    "fruits.count('tangerine')"
   ]
  },
  {
   "cell_type": "code",
   "execution_count": 4,
   "metadata": {},
   "outputs": [
    {
     "data": {
      "text/plain": [
       "3"
      ]
     },
     "execution_count": 4,
     "metadata": {},
     "output_type": "execute_result"
    }
   ],
   "source": [
    "fruits.index('banana')"
   ]
  },
  {
   "cell_type": "code",
   "execution_count": 5,
   "metadata": {},
   "outputs": [
    {
     "data": {
      "text/plain": [
       "6"
      ]
     },
     "execution_count": 5,
     "metadata": {},
     "output_type": "execute_result"
    }
   ],
   "source": [
    "fruits.index('banana', 4)  # Find next banana starting a position 4"
   ]
  },
  {
   "cell_type": "code",
   "execution_count": 6,
   "metadata": {
    "collapsed": true
   },
   "outputs": [],
   "source": [
    "fruits.reverse()"
   ]
  },
  {
   "cell_type": "code",
   "execution_count": 7,
   "metadata": {},
   "outputs": [
    {
     "data": {
      "text/plain": [
       "['banana', 'apple', 'kiwi', 'banana', 'pear', 'apple', 'orange']"
      ]
     },
     "execution_count": 7,
     "metadata": {},
     "output_type": "execute_result"
    }
   ],
   "source": [
    "fruits"
   ]
  },
  {
   "cell_type": "code",
   "execution_count": 8,
   "metadata": {
    "collapsed": true
   },
   "outputs": [],
   "source": [
    "fruits.append('grape')"
   ]
  },
  {
   "cell_type": "code",
   "execution_count": 9,
   "metadata": {},
   "outputs": [
    {
     "data": {
      "text/plain": [
       "['banana', 'apple', 'kiwi', 'banana', 'pear', 'apple', 'orange', 'grape']"
      ]
     },
     "execution_count": 9,
     "metadata": {},
     "output_type": "execute_result"
    }
   ],
   "source": [
    "fruits"
   ]
  },
  {
   "cell_type": "code",
   "execution_count": 10,
   "metadata": {
    "collapsed": true
   },
   "outputs": [],
   "source": [
    "fruits.sort()"
   ]
  },
  {
   "cell_type": "code",
   "execution_count": 11,
   "metadata": {},
   "outputs": [
    {
     "data": {
      "text/plain": [
       "['apple', 'apple', 'banana', 'banana', 'grape', 'kiwi', 'orange', 'pear']"
      ]
     },
     "execution_count": 11,
     "metadata": {},
     "output_type": "execute_result"
    }
   ],
   "source": [
    "fruits"
   ]
  },
  {
   "cell_type": "code",
   "execution_count": 12,
   "metadata": {},
   "outputs": [
    {
     "data": {
      "text/plain": [
       "'pear'"
      ]
     },
     "execution_count": 12,
     "metadata": {},
     "output_type": "execute_result"
    }
   ],
   "source": [
    "fruits.pop()"
   ]
  },
  {
   "cell_type": "markdown",
   "metadata": {},
   "source": [
    "## Self Check\n",
    "\n",
    "[Two Sum](https://leetcode.com/problems/two-sum/) - [Solution](https://github.com/AngusMonroe/LeetCode/blob/master/algorithms/1/TwoSum.ipynb)\n",
    "\n",
    "## Reference\n",
    "\n",
    "[Python3 列表| 菜鸟教程](https://www.runoob.com/python3/python3-list.html)\n",
    "\n",
    "[Data Structures — Python 3.8.1 documentation](https://docs.python.org/3/tutorial/datastructures.html)"
   ]
  }
 ],
 "metadata": {
  "kernelspec": {
   "display_name": "Python 3",
   "language": "python",
   "name": "python3"
  },
  "language_info": {
   "codemirror_mode": {
    "name": "ipython",
    "version": 3
   },
   "file_extension": ".py",
   "mimetype": "text/x-python",
   "name": "python",
   "nbconvert_exporter": "python",
   "pygments_lexer": "ipython3",
   "version": "3.6.7"
  }
 },
 "nbformat": 4,
 "nbformat_minor": 2
}
